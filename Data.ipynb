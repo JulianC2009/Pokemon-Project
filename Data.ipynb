{
 "cells": [
  {
   "cell_type": "code",
   "execution_count": 25,
   "id": "5f42bd6b",
   "metadata": {},
   "outputs": [],
   "source": [
    "import os\n",
    "import torch\n",
    "import imageio\n",
    "from torch.utils.data import Dataset\n",
    "from torchvision import transforms\n",
    "from sklearn.model_selection import train_test_split\n",
    "from PIL import Image\n"
   ]
  },
  {
   "cell_type": "code",
   "execution_count": 26,
   "id": "a2db4217",
   "metadata": {},
   "outputs": [],
   "source": [
    "##! pip install imageio"
   ]
  },
  {
   "cell_type": "code",
   "execution_count": 27,
   "id": "07a61801",
   "metadata": {},
   "outputs": [],
   "source": [
    "##! pip install torchvision"
   ]
  },
  {
   "cell_type": "code",
   "execution_count": 28,
   "id": "5130ab45",
   "metadata": {},
   "outputs": [],
   "source": [
    "import os\n",
    "\n",
    "class PokemonDataset(Dataset):\n",
    "    def __init__(self, dataset_save=\"pokemon_data.pt\", raw_data=None, train=True, shuffle=False,\n",
    "                 transform=None, target_transform=None, convert=False, size=32):\n",
    "        self.targets = []\n",
    "        self.labels = []\n",
    "        self.data = []\n",
    "\n",
    "        self.X_train = []\n",
    "        self.X_test = []\n",
    "        self.y_train = []\n",
    "        self.y_test = []\n",
    "\n",
    "        self.transform = transform\n",
    "        self.target_transform = target_transform\n",
    "\n",
    "        if convert:\n",
    "            self.convert(dataset_save, raw_data, size)\n",
    "        else:\n",
    "            self.load(dataset_save)\n",
    "\n",
    "        seed = 42 if not shuffle else int(torch.randint(0, 100, (1,)).item())\n",
    "        self.X_train, self.X_test, self.y_train, self.y_test = train_test_split(\n",
    "            self.data, self.targets, test_size=0.2, random_state=seed)\n",
    "\n",
    "        if train:\n",
    "            self.data = self.X_train\n",
    "            self.targets = self.y_train\n",
    "        else:\n",
    "            self.data = self.X_test\n",
    "            self.targets = self.y_test\n",
    "\n",
    "    def __len__(self):\n",
    "        return len(self.data)\n",
    "\n",
    "    def __getitem__(self, index):\n",
    "        image, target = self.data[index], self.targets[index]\n",
    "        if self.transform:\n",
    "            image = self.transform(image)\n",
    "        if self.target_transform:\n",
    "            target = self.target_transform(target)\n",
    "        return image, target\n",
    "\n",
    "    def convert(self, dataset_save, raw_data, size):\n",
    "        dataset = []\n",
    "        self.labels = []\n",
    "        targets = []\n",
    "\n",
    "        for folder in os.listdir(raw_data):\n",
    "            folder_path = os.path.join(raw_data, folder)\n",
    "            if not os.path.isdir(folder_path):\n",
    "                continue\n",
    "\n",
    "            for file in os.listdir(folder_path):\n",
    "                if file.lower().endswith((\".jpg\", \".jpeg\", \".png\")):\n",
    "                    if folder not in self.labels:\n",
    "                        self.labels.append(folder)\n",
    "                    label_idx = self.labels.index(folder)\n",
    "\n",
    "                    img_path = os.path.join(folder_path, file)\n",
    "                    try:\n",
    "                        img = Image.open(img_path).convert(\"RGB\")\n",
    "                        img = img.resize((size, size))\n",
    "                        img_tensor = transforms.ToTensor()(img)\n",
    "                        dataset.append(img_tensor)\n",
    "                        targets.append(label_idx)\n",
    "                    except Exception as e:\n",
    "                        print(f\"Skipped {img_path} due to error: {e}\")\n",
    "\n",
    "        self.data = torch.stack(dataset)\n",
    "        self.targets = torch.tensor(targets, dtype=torch.long)\n",
    "        torch.save((self.data, self.targets, self.labels), dataset_save)\n",
    "\n",
    "    def load(self, dataset_save):\n",
    "        self.data, self.targets, self.labels = torch.load(dataset_save)"
   ]
  },
  {
   "cell_type": "code",
   "execution_count": 29,
   "id": "d3cda223",
   "metadata": {},
   "outputs": [
    {
     "name": "stdout",
     "output_type": "stream",
     "text": [
      "Dataset class loaded\n"
     ]
    }
   ],
   "source": [
    "print(\"Dataset class loaded\")"
   ]
  },
  {
   "cell_type": "code",
   "execution_count": null,
   "id": "888977d0",
   "metadata": {},
   "outputs": [],
   "source": []
  },
  {
   "cell_type": "code",
   "execution_count": null,
   "id": "6060c83f",
   "metadata": {},
   "outputs": [],
   "source": []
  },
  {
   "cell_type": "code",
   "execution_count": null,
   "id": "4d4c8203",
   "metadata": {},
   "outputs": [],
   "source": []
  }
 ],
 "metadata": {
  "kernelspec": {
   "display_name": "Python 3 (ipykernel)",
   "language": "python",
   "name": "python3"
  },
  "language_info": {
   "codemirror_mode": {
    "name": "ipython",
    "version": 3
   },
   "file_extension": ".py",
   "mimetype": "text/x-python",
   "name": "python",
   "nbconvert_exporter": "python",
   "pygments_lexer": "ipython3",
   "version": "3.7.16"
  }
 },
 "nbformat": 4,
 "nbformat_minor": 5
}
